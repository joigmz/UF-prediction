{
 "cells": [
  {
   "cell_type": "code",
   "execution_count": 1,
   "id": "51d21971-5d2b-4db4-b9a4-1bb68b212504",
   "metadata": {},
   "outputs": [],
   "source": [
    "import pandas as pd"
   ]
  },
  {
   "cell_type": "code",
   "execution_count": 7,
   "id": "548c4d73-f5a6-4ef1-8781-03a763bacd75",
   "metadata": {},
   "outputs": [],
   "source": [
    "for year in range(1990,2013,1):\n",
    "    df = pd.read_html(io='https://www.sii.cl/pagina/valores/uf/uf'+str(year)+'.htm')\n",
    "    df[0].to_csv('UF '+str(year)+'.csv', index=False)"
   ]
  },
  {
   "cell_type": "code",
   "execution_count": 10,
   "id": "cd081e14-b73e-436a-b882-bc810c5d2be6",
   "metadata": {},
   "outputs": [],
   "source": [
    "#Source clfclp after 2012\n",
    "#https://www.sii.cl/valores_y_fechas/uf/uf2013.htm"
   ]
  },
  {
   "cell_type": "code",
   "execution_count": null,
   "id": "d723657a-740e-4459-ab70-41b088f82bbd",
   "metadata": {},
   "outputs": [],
   "source": []
  }
 ],
 "metadata": {
  "kernelspec": {
   "display_name": "Python 3 (ipykernel)",
   "language": "python",
   "name": "python3"
  },
  "language_info": {
   "codemirror_mode": {
    "name": "ipython",
    "version": 3
   },
   "file_extension": ".py",
   "mimetype": "text/x-python",
   "name": "python",
   "nbconvert_exporter": "python",
   "pygments_lexer": "ipython3",
   "version": "3.8.9"
  }
 },
 "nbformat": 4,
 "nbformat_minor": 5
}
