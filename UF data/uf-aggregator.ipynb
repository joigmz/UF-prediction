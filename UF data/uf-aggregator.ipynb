{
 "cells": [
  {
   "cell_type": "code",
   "execution_count": 37,
   "id": "ff102fc5-e3c7-4418-84f5-92d4aadbf6ab",
   "metadata": {},
   "outputs": [],
   "source": [
    "import pandas as pd\n",
    "import numpy as np\n",
    "from datetime import datetime"
   ]
  },
  {
   "cell_type": "code",
   "execution_count": 70,
   "id": "a04e17b3-9b43-4d62-a485-ebfb56d00621",
   "metadata": {},
   "outputs": [],
   "source": [
    "data = []\n",
    "\n",
    "for year in range(1990,2023,1):\n",
    "    if year<2013:\n",
    "        df = pd.read_csv('UF '+str(year)+'.csv', thousands='.', decimal=\",\")\n",
    "    else:\n",
    "        df = pd.read_csv('UF '+str(year)+'.csv', sep=';', thousands='.', decimal=\",\")\n",
    "    months = df.columns[1:]\n",
    "    days = df.index\n",
    "\n",
    "    month_number = 1\n",
    "    for month in months:\n",
    "        for day in days:\n",
    "            if not np.isnan(df.loc[day,month]):\n",
    "                data.append([datetime(year,month_number,day+1),df.loc[day,month]])\n",
    "        month_number+=1"
   ]
  },
  {
   "cell_type": "code",
   "execution_count": 76,
   "id": "826bdc9d-ca08-4bfb-9b4f-dab63b97dcb1",
   "metadata": {},
   "outputs": [
    {
     "data": {
      "text/html": [
       "<div>\n",
       "<style scoped>\n",
       "    .dataframe tbody tr th:only-of-type {\n",
       "        vertical-align: middle;\n",
       "    }\n",
       "\n",
       "    .dataframe tbody tr th {\n",
       "        vertical-align: top;\n",
       "    }\n",
       "\n",
       "    .dataframe thead th {\n",
       "        text-align: right;\n",
       "    }\n",
       "</style>\n",
       "<table border=\"1\" class=\"dataframe\">\n",
       "  <thead>\n",
       "    <tr style=\"text-align: right;\">\n",
       "      <th></th>\n",
       "      <th>date</th>\n",
       "      <th>clfclp</th>\n",
       "    </tr>\n",
       "  </thead>\n",
       "  <tbody>\n",
       "    <tr>\n",
       "      <th>0</th>\n",
       "      <td>1990-01-01</td>\n",
       "      <td>5435.28</td>\n",
       "    </tr>\n",
       "    <tr>\n",
       "      <th>1</th>\n",
       "      <td>1990-01-02</td>\n",
       "      <td>5438.23</td>\n",
       "    </tr>\n",
       "    <tr>\n",
       "      <th>2</th>\n",
       "      <td>1990-01-03</td>\n",
       "      <td>5441.19</td>\n",
       "    </tr>\n",
       "    <tr>\n",
       "      <th>3</th>\n",
       "      <td>1990-01-04</td>\n",
       "      <td>5444.15</td>\n",
       "    </tr>\n",
       "    <tr>\n",
       "      <th>4</th>\n",
       "      <td>1990-01-05</td>\n",
       "      <td>5447.11</td>\n",
       "    </tr>\n",
       "    <tr>\n",
       "      <th>...</th>\n",
       "      <td>...</td>\n",
       "      <td>...</td>\n",
       "    </tr>\n",
       "    <tr>\n",
       "      <th>11904</th>\n",
       "      <td>2022-08-05</td>\n",
       "      <td>33465.59</td>\n",
       "    </tr>\n",
       "    <tr>\n",
       "      <th>11905</th>\n",
       "      <td>2022-08-06</td>\n",
       "      <td>33475.26</td>\n",
       "    </tr>\n",
       "    <tr>\n",
       "      <th>11906</th>\n",
       "      <td>2022-08-07</td>\n",
       "      <td>33484.94</td>\n",
       "    </tr>\n",
       "    <tr>\n",
       "      <th>11907</th>\n",
       "      <td>2022-08-08</td>\n",
       "      <td>33494.62</td>\n",
       "    </tr>\n",
       "    <tr>\n",
       "      <th>11908</th>\n",
       "      <td>2022-08-09</td>\n",
       "      <td>33504.30</td>\n",
       "    </tr>\n",
       "  </tbody>\n",
       "</table>\n",
       "<p>11909 rows × 2 columns</p>\n",
       "</div>"
      ],
      "text/plain": [
       "            date    clfclp\n",
       "0     1990-01-01   5435.28\n",
       "1     1990-01-02   5438.23\n",
       "2     1990-01-03   5441.19\n",
       "3     1990-01-04   5444.15\n",
       "4     1990-01-05   5447.11\n",
       "...          ...       ...\n",
       "11904 2022-08-05  33465.59\n",
       "11905 2022-08-06  33475.26\n",
       "11906 2022-08-07  33484.94\n",
       "11907 2022-08-08  33494.62\n",
       "11908 2022-08-09  33504.30\n",
       "\n",
       "[11909 rows x 2 columns]"
      ]
     },
     "execution_count": 76,
     "metadata": {},
     "output_type": "execute_result"
    }
   ],
   "source": [
    "uf_data = pd.DataFrame(data, columns=['date','clfclp'])\n",
    "uf_data"
   ]
  },
  {
   "cell_type": "code",
   "execution_count": 78,
   "id": "568ec50e-ecb6-4b3d-951c-7cb57535e82c",
   "metadata": {},
   "outputs": [],
   "source": [
    "uf_data.to_csv('UF 1990-2022.csv', index=False)"
   ]
  },
  {
   "cell_type": "code",
   "execution_count": null,
   "id": "7bd9929c-80ba-420e-aa2b-815c2cc0b6cb",
   "metadata": {},
   "outputs": [],
   "source": []
  }
 ],
 "metadata": {
  "kernelspec": {
   "display_name": "Python 3 (ipykernel)",
   "language": "python",
   "name": "python3"
  },
  "language_info": {
   "codemirror_mode": {
    "name": "ipython",
    "version": 3
   },
   "file_extension": ".py",
   "mimetype": "text/x-python",
   "name": "python",
   "nbconvert_exporter": "python",
   "pygments_lexer": "ipython3",
   "version": "3.8.9"
  }
 },
 "nbformat": 4,
 "nbformat_minor": 5
}
