{
 "cells": [
  {
   "cell_type": "code",
   "execution_count": 43,
   "id": "41180b26-f662-47b7-b300-e98f7ce0eaf3",
   "metadata": {},
   "outputs": [],
   "source": [
    "import matplotlib.pyplot as plt\n",
    "from sklearn.model_selection import train_test_split\n",
    "from sklearn.linear_model import LinearRegression\n",
    "from sklearn.metrics import mean_squared_error, r2_score\n",
    "import datetime as dt\n",
    "import pandas as pd\n",
    "import numpy as np"
   ]
  },
  {
   "cell_type": "code",
   "execution_count": 32,
   "id": "44a58227-296a-444e-99c8-38e52baa45c4",
   "metadata": {},
   "outputs": [
    {
     "data": {
      "text/html": [
       "<div>\n",
       "<style scoped>\n",
       "    .dataframe tbody tr th:only-of-type {\n",
       "        vertical-align: middle;\n",
       "    }\n",
       "\n",
       "    .dataframe tbody tr th {\n",
       "        vertical-align: top;\n",
       "    }\n",
       "\n",
       "    .dataframe thead th {\n",
       "        text-align: right;\n",
       "    }\n",
       "</style>\n",
       "<table border=\"1\" class=\"dataframe\">\n",
       "  <thead>\n",
       "    <tr style=\"text-align: right;\">\n",
       "      <th></th>\n",
       "      <th>date</th>\n",
       "      <th>clfclp</th>\n",
       "    </tr>\n",
       "  </thead>\n",
       "  <tbody>\n",
       "    <tr>\n",
       "      <th>0</th>\n",
       "      <td>1990-01-01</td>\n",
       "      <td>5435.28</td>\n",
       "    </tr>\n",
       "    <tr>\n",
       "      <th>1</th>\n",
       "      <td>1990-01-02</td>\n",
       "      <td>5438.23</td>\n",
       "    </tr>\n",
       "    <tr>\n",
       "      <th>2</th>\n",
       "      <td>1990-01-03</td>\n",
       "      <td>5441.19</td>\n",
       "    </tr>\n",
       "    <tr>\n",
       "      <th>3</th>\n",
       "      <td>1990-01-04</td>\n",
       "      <td>5444.15</td>\n",
       "    </tr>\n",
       "    <tr>\n",
       "      <th>4</th>\n",
       "      <td>1990-01-05</td>\n",
       "      <td>5447.11</td>\n",
       "    </tr>\n",
       "    <tr>\n",
       "      <th>...</th>\n",
       "      <td>...</td>\n",
       "      <td>...</td>\n",
       "    </tr>\n",
       "    <tr>\n",
       "      <th>11904</th>\n",
       "      <td>2022-08-05</td>\n",
       "      <td>33465.59</td>\n",
       "    </tr>\n",
       "    <tr>\n",
       "      <th>11905</th>\n",
       "      <td>2022-08-06</td>\n",
       "      <td>33475.26</td>\n",
       "    </tr>\n",
       "    <tr>\n",
       "      <th>11906</th>\n",
       "      <td>2022-08-07</td>\n",
       "      <td>33484.94</td>\n",
       "    </tr>\n",
       "    <tr>\n",
       "      <th>11907</th>\n",
       "      <td>2022-08-08</td>\n",
       "      <td>33494.62</td>\n",
       "    </tr>\n",
       "    <tr>\n",
       "      <th>11908</th>\n",
       "      <td>2022-08-09</td>\n",
       "      <td>33504.30</td>\n",
       "    </tr>\n",
       "  </tbody>\n",
       "</table>\n",
       "<p>11909 rows × 2 columns</p>\n",
       "</div>"
      ],
      "text/plain": [
       "             date    clfclp\n",
       "0      1990-01-01   5435.28\n",
       "1      1990-01-02   5438.23\n",
       "2      1990-01-03   5441.19\n",
       "3      1990-01-04   5444.15\n",
       "4      1990-01-05   5447.11\n",
       "...           ...       ...\n",
       "11904  2022-08-05  33465.59\n",
       "11905  2022-08-06  33475.26\n",
       "11906  2022-08-07  33484.94\n",
       "11907  2022-08-08  33494.62\n",
       "11908  2022-08-09  33504.30\n",
       "\n",
       "[11909 rows x 2 columns]"
      ]
     },
     "execution_count": 32,
     "metadata": {},
     "output_type": "execute_result"
    }
   ],
   "source": [
    "df = pd.read_csv('../UF data/UF 1990-2022.csv')\n",
    "df"
   ]
  },
  {
   "cell_type": "code",
   "execution_count": 33,
   "id": "f1652dc9-f0bd-42f2-8c97-192182d3d586",
   "metadata": {},
   "outputs": [],
   "source": [
    "def add_ordinal_date(df, date):\n",
    "    df_output = df[df.date>=date].copy(deep=True)\n",
    "    df_output['date'] = pd.to_datetime(df_output['date'])\n",
    "    df_output['ordinal_date']=df_output['date'].map(dt.datetime.toordinal)\n",
    "    return df_output"
   ]
  },
  {
   "cell_type": "code",
   "execution_count": 36,
   "id": "7cc41bce-fb3e-4c6f-95e6-4af51be6b740",
   "metadata": {},
   "outputs": [
    {
     "data": {
      "text/html": [
       "<div>\n",
       "<style scoped>\n",
       "    .dataframe tbody tr th:only-of-type {\n",
       "        vertical-align: middle;\n",
       "    }\n",
       "\n",
       "    .dataframe tbody tr th {\n",
       "        vertical-align: top;\n",
       "    }\n",
       "\n",
       "    .dataframe thead th {\n",
       "        text-align: right;\n",
       "    }\n",
       "</style>\n",
       "<table border=\"1\" class=\"dataframe\">\n",
       "  <thead>\n",
       "    <tr style=\"text-align: right;\">\n",
       "      <th></th>\n",
       "      <th>date</th>\n",
       "      <th>clfclp</th>\n",
       "      <th>ordinal_date</th>\n",
       "    </tr>\n",
       "  </thead>\n",
       "  <tbody>\n",
       "    <tr>\n",
       "      <th>11688</th>\n",
       "      <td>2022-01-01</td>\n",
       "      <td>30996.73</td>\n",
       "      <td>738156</td>\n",
       "    </tr>\n",
       "    <tr>\n",
       "      <th>11689</th>\n",
       "      <td>2022-01-02</td>\n",
       "      <td>31001.72</td>\n",
       "      <td>738157</td>\n",
       "    </tr>\n",
       "    <tr>\n",
       "      <th>11690</th>\n",
       "      <td>2022-01-03</td>\n",
       "      <td>31006.71</td>\n",
       "      <td>738158</td>\n",
       "    </tr>\n",
       "    <tr>\n",
       "      <th>11691</th>\n",
       "      <td>2022-01-04</td>\n",
       "      <td>31011.69</td>\n",
       "      <td>738159</td>\n",
       "    </tr>\n",
       "    <tr>\n",
       "      <th>11692</th>\n",
       "      <td>2022-01-05</td>\n",
       "      <td>31016.68</td>\n",
       "      <td>738160</td>\n",
       "    </tr>\n",
       "    <tr>\n",
       "      <th>...</th>\n",
       "      <td>...</td>\n",
       "      <td>...</td>\n",
       "      <td>...</td>\n",
       "    </tr>\n",
       "    <tr>\n",
       "      <th>11904</th>\n",
       "      <td>2022-08-05</td>\n",
       "      <td>33465.59</td>\n",
       "      <td>738372</td>\n",
       "    </tr>\n",
       "    <tr>\n",
       "      <th>11905</th>\n",
       "      <td>2022-08-06</td>\n",
       "      <td>33475.26</td>\n",
       "      <td>738373</td>\n",
       "    </tr>\n",
       "    <tr>\n",
       "      <th>11906</th>\n",
       "      <td>2022-08-07</td>\n",
       "      <td>33484.94</td>\n",
       "      <td>738374</td>\n",
       "    </tr>\n",
       "    <tr>\n",
       "      <th>11907</th>\n",
       "      <td>2022-08-08</td>\n",
       "      <td>33494.62</td>\n",
       "      <td>738375</td>\n",
       "    </tr>\n",
       "    <tr>\n",
       "      <th>11908</th>\n",
       "      <td>2022-08-09</td>\n",
       "      <td>33504.30</td>\n",
       "      <td>738376</td>\n",
       "    </tr>\n",
       "  </tbody>\n",
       "</table>\n",
       "<p>221 rows × 3 columns</p>\n",
       "</div>"
      ],
      "text/plain": [
       "            date    clfclp  ordinal_date\n",
       "11688 2022-01-01  30996.73        738156\n",
       "11689 2022-01-02  31001.72        738157\n",
       "11690 2022-01-03  31006.71        738158\n",
       "11691 2022-01-04  31011.69        738159\n",
       "11692 2022-01-05  31016.68        738160\n",
       "...          ...       ...           ...\n",
       "11904 2022-08-05  33465.59        738372\n",
       "11905 2022-08-06  33475.26        738373\n",
       "11906 2022-08-07  33484.94        738374\n",
       "11907 2022-08-08  33494.62        738375\n",
       "11908 2022-08-09  33504.30        738376\n",
       "\n",
       "[221 rows x 3 columns]"
      ]
     },
     "execution_count": 36,
     "metadata": {},
     "output_type": "execute_result"
    }
   ],
   "source": [
    "filtered_df = add_ordinal_date(df_2022,'2022-01-01')\n",
    "filtered_df"
   ]
  },
  {
   "cell_type": "code",
   "execution_count": 51,
   "id": "0d6a0ce6-ebd7-4a87-9a03-eb3c5281cb0a",
   "metadata": {},
   "outputs": [
    {
     "name": "stdout",
     "output_type": "stream",
     "text": [
      "Coefficients: \n",
      " [-8994549.98196372] [[12.22690643]]\n",
      "Mean squared error: 9481.19\n",
      "Coefficient of determination: 0.98\n"
     ]
    }
   ],
   "source": [
    "X_train, X_test, y_train, y_test = train_test_split(\n",
    "    filtered_df[['ordinal_date']], filtered_df[['clfclp']], test_size=0.33, random_state=42)\n",
    "\n",
    "reg = LinearRegression().fit(X_train.values, y_train)\n",
    "\n",
    "# Make predictions using the testing set\n",
    "y_pred = reg.predict(X_test.values)\n",
    "\n",
    "# The coefficients\n",
    "print(\"Coefficients: \\n\", reg.intercept_, reg.coef_)\n",
    "# The mean squared error\n",
    "print(\"Mean squared error: %.2f\" % mean_squared_error(y_test, y_pred))\n",
    "# The coefficient of determination: 1 is perfect prediction\n",
    "print(\"Coefficient of determination: %.2f\" % r2_score(y_test, y_pred))"
   ]
  },
  {
   "cell_type": "code",
   "execution_count": 52,
   "id": "8607fba0-b8c3-4af1-b7ce-625105be213e",
   "metadata": {},
   "outputs": [],
   "source": [
    "dateee = dt.datetime.toordinal(dt.datetime(2022,12,24))\n",
    "uf_navidad = reg.predict([[dateee]])"
   ]
  },
  {
   "cell_type": "code",
   "execution_count": 53,
   "id": "d3651a16-3eee-4aa9-a433-6463d6cf0899",
   "metadata": {},
   "outputs": [
    {
     "data": {
      "text/plain": [
       "array([[35179.36957432]])"
      ]
     },
     "execution_count": 53,
     "metadata": {},
     "output_type": "execute_result"
    }
   ],
   "source": [
    "uf_navidad"
   ]
  },
  {
   "cell_type": "code",
   "execution_count": 55,
   "id": "f9011fd3-9e77-4208-a384-4451dabdad72",
   "metadata": {},
   "outputs": [
    {
     "data": {
      "image/png": "[encoded data removed]",
      "text/plain": [
       "<Figure size 432x288 with 1 Axes>"
      ]
     },
     "metadata": {
      "needs_background": "light"
     },
     "output_type": "display_data"
    }
   ],
   "source": [
    "# Plot outputs\n",
    "plt.scatter(X_test, y_test, color=\"black\")\n",
    "plt.scatter(X_test, y_pred, color=\"blue\")\n",
    "\n",
    "plt.xlabel('Ordinal date')\n",
    "plt.ylabel('UF value')\n",
    "\n",
    "plt.show()"
   ]
  },
  {
   "cell_type": "code",
   "execution_count": null,
   "id": "7b3d7902-ed3f-4759-bfe6-52d046c45db1",
   "metadata": {},
   "outputs": [],
   "source": []
  }
 ],
 "metadata": {
  "kernelspec": {
   "display_name": "Python 3 (ipykernel)",
   "language": "python",
   "name": "python3"
  },
  "language_info": {
   "codemirror_mode": {
    "name": "ipython",
    "version": 3
   },
   "file_extension": ".py",
   "mimetype": "text/x-python",
   "name": "python",
   "nbconvert_exporter": "python",
   "pygments_lexer": "ipython3",
   "version": "3.8.9"
  }
 },
 "nbformat": 4,
 "nbformat_minor": 5
}
